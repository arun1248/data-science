{
 "cells": [
  {
   "cell_type": "code",
   "execution_count": 1,
   "id": "873f0c92-49cb-4e45-a5e1-896848771ef4",
   "metadata": {},
   "outputs": [],
   "source": [
    "import sqlite3\n",
    "\n",
    "conn = sqlite3.connect(\"dummy.db\")\n",
    "cur = conn.cursor()\n",
    "\n",
    "cur.execute(\n",
    "    '''\n",
    "    CREATE TABLE IF NOT EXISTS USERS(\n",
    "        id INTEGER PRIMARY KEY AUTOINCREMENT,\n",
    "        name TEXT NOT NULL,\n",
    "        marks INTEGER NOT NULL)\n",
    "    '''\n",
    ")\n",
    "\n",
    "conn.commit()  # make sure table is saved"
   ]
  },
  {
   "cell_type": "code",
   "execution_count": 2,
   "id": "dfa0e618-82bc-43b2-96ab-5b12a7fc769e",
   "metadata": {},
   "outputs": [],
   "source": [
    "cur.execute(\n",
    "    '''\n",
    "    INSERT INTO USERS (name, marks) VALUES\n",
    "    ('satish', 70),\n",
    "    ('saran', 65),\n",
    "    ('kamal', 72)\n",
    "    '''\n",
    ")\n",
    "conn.commit()"
   ]
  },
  {
   "cell_type": "code",
   "execution_count": 4,
   "id": "d288298f-caef-48f9-9584-8d4948fd0c88",
   "metadata": {},
   "outputs": [
    {
     "data": {
      "text/plain": [
       "[(70,), (65,), (72,)]"
      ]
     },
     "execution_count": 4,
     "metadata": {},
     "output_type": "execute_result"
    }
   ],
   "source": [
    "cur.execute(\"SELECT marks FROM USERS\")\n",
    "ls_marks = cur.fetchall()\n",
    "ls_marks"
   ]
  },
  {
   "cell_type": "code",
   "execution_count": 5,
   "id": "6a0aa833-05f6-450a-bd4d-6ca2edae233e",
   "metadata": {},
   "outputs": [
    {
     "data": {
      "text/plain": [
       "69.0"
      ]
     },
     "execution_count": 5,
     "metadata": {},
     "output_type": "execute_result"
    }
   ],
   "source": [
    "res = [x[0] for x in ls_marks]\n",
    "sum(res) / len(res)"
   ]
  }
 ],
 "metadata": {
  "kernelspec": {
   "display_name": "Python 3 (ipykernel)",
   "language": "python",
   "name": "python3"
  },
  "language_info": {
   "codemirror_mode": {
    "name": "ipython",
    "version": 3
   },
   "file_extension": ".py",
   "mimetype": "text/x-python",
   "name": "python",
   "nbconvert_exporter": "python",
   "pygments_lexer": "ipython3",
   "version": "3.13.3"
  }
 },
 "nbformat": 4,
 "nbformat_minor": 5
}
